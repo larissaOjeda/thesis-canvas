{
 "cells": [
  {
   "cell_type": "code",
   "execution_count": 43,
   "metadata": {},
   "outputs": [],
   "source": [
    "# Question 1: Array Manipulation\n",
    "from typing import List\n",
    "\n",
    "def array_manipulation(a: List): \n",
    "    b = []\n",
    "    for i in range (len(a)):\n",
    "        if i-1 < 0:\n",
    "            temp = 0 + a[i] + a[i + 1] \n",
    "        elif i+1 > len(a)-1: \n",
    "            temp =  a[i - 1] + a[i] + 0\n",
    "        else: \n",
    "            temp = a[i - 1] + a[i] + a[i + 1] \n",
    "        b.append(temp)\n",
    "    return b\n",
    "\n",
    "def array_manipulation_b(a: List): \n",
    "    n = len(a)\n",
    "    b = [0 for _ in range(n)]\n",
    "    for i in range(n):\n",
    "        b[i] = a[i]\n",
    "        if i > 0:\n",
    "            b[i] += a[i - 1]\n",
    "        if i < n - 1:\n",
    "            b[i] += a[i + 1]\n",
    "    return b \n",
    "\n",
    "\n",
    "a = [4, 0, 1, -2, 3]\n",
    "b = array_manipulation(a)\n",
    "print(b)\n",
    "assert b == [4, 5, -1, 2, 1]\n",
    "\n",
    "array_manipulation_b(a)\n",
    "print(b)\n",
    "assert b == [4, 5, -1, 2, 1]"
   ]
  },
  {
   "cell_type": "code",
   "execution_count": null,
   "metadata": {},
   "outputs": [],
   "source": [
    "# Array Manipulation:\n",
    "# Problem: Given an array of integers, return the indices of the two numbers that add up to a specific target.\n",
    "\n",
    "def sum_of_two_numbers(array: List[int], target: int): \n",
    "    i,j = 0,0 \n",
    "    array.sort()\n",
    "    \n",
    "    return i,j"
   ]
  },
  {
   "cell_type": "code",
   "execution_count": null,
   "metadata": {},
   "outputs": [],
   "source": [
    "# Check if a string is palindrome \n",
    "\n",
    "def is_palindrome(string: str):\n",
    "    \"anita lava la tina\"\n",
    "    "
   ]
  }
 ],
 "metadata": {
  "kernelspec": {
   "display_name": ".venv",
   "language": "python",
   "name": "python3"
  },
  "language_info": {
   "name": "python",
   "version": "3.12.2"
  }
 },
 "nbformat": 4,
 "nbformat_minor": 2
}
