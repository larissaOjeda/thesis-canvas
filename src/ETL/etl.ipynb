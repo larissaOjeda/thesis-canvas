{
 "cells": [
  {
   "cell_type": "code",
   "execution_count": 17,
   "metadata": {},
   "outputs": [],
   "source": [
    "import os\n",
    "from canvas_data.api import CanvasDataAPI\n",
    "import pandas as pd\n",
    "import csv\n",
    "import numpy as np\n",
    "import matplotlib.pyplot as plt\n",
    "import seaborn as sns\n",
    "import gzip\n",
    "import pathlib\n",
    "import json\n",
    "import shutil\n",
    "import petl as etl\n",
    "from tqdm import tqdm\n",
    "\n",
    "API_KEY = \"\"\n",
    "API_SECRET =\"\""
   ]
  },
  {
   "attachments": {},
   "cell_type": "markdown",
   "metadata": {},
   "source": [
    "# Extract\n",
    "Get the tables from Canvas Data Portal using Canvas API"
   ]
  },
  {
   "cell_type": "code",
   "execution_count": 18,
   "metadata": {},
   "outputs": [
    {
     "name": "stderr",
     "output_type": "stream",
     "text": [
      " 57%|█████▋    | 12/21 [00:00<00:00, 57.95it/s]"
     ]
    },
    {
     "name": "stdout",
     "output_type": "stream",
     "text": [
      "Could not unzip file unzip\n"
     ]
    },
    {
     "name": "stderr",
     "output_type": "stream",
     "text": [
      "100%|██████████| 21/21 [00:00<00:00, 76.73it/s]\n"
     ]
    }
   ],
   "source": [
    "class Extract():\n",
    "\n",
    "    def __init__(self, API_KEY, API_SECRET):\n",
    "        from tqdm import tqdm\n",
    "        self.API_KEY = API_KEY\n",
    "        self.API_SECRET = API_SECRET\n",
    "\n",
    "\n",
    "    def connect_canvas_api(self):\n",
    "        from canvas_data.api import CanvasDataAPI\n",
    "        cd = CanvasDataAPI(api_key=self.API_KEY, api_secret=self.API_SECRET, download_chunk_size=1024*1024)\n",
    "        return cd\n",
    "    \n",
    "    def unzip_files(self, directory = '/Users/larissatrasvina/thesis-canvas/src/ETL/downloads'):\n",
    "        dir_name = 'unzipped'\n",
    "        new_dir = pathlib.Path(directory, dir_name)\n",
    "        new_dir.mkdir(parents=True, exist_ok=True)\n",
    "        for filename in tqdm(os.listdir(directory)):\n",
    "            try: \n",
    "                filepath = os.path.join(directory, filename)\n",
    "                with gzip.open(filepath, 'r+') as file_in:\n",
    "                    with open(f'{directory}/unzipped/{filename[:-3]}.txt', 'wb') as file_out:\n",
    "                        shutil.copyfileobj(file_in, file_out)\n",
    "            except:\n",
    "                print(f'Could not unzip file {filename[:-3]}')\n",
    "        \n",
    "\n",
    "    def extract_files(self):\n",
    "        cd = self.connect_canvas_api()\n",
    "        try: \n",
    "            files = cd.download_files(dump_id='latest', include_requests=False)\n",
    "            unzip = self.unzip_files()\n",
    "        except Exception as e: \n",
    "            print(e)\n",
    "    \n",
    "    \n",
    "    def get_schema(self):\n",
    "        cd = self.connect_canvas_api()\n",
    "        #dumps = cd.get_dumps()\n",
    "        #files_nmbr = len(dumps)\n",
    "        try:\n",
    "            schema = cd.get_schema('latest', key_on_tablenames=True)\n",
    "            with open(\"schema.json\", \"w\") as outfile:\n",
    "                json.dump(schema, outfile)\n",
    "            return schema\n",
    "        except Exception as e: \n",
    "            print(e)\n",
    "    \n",
    "extraction = Extract(API_KEY, API_SECRET)\n",
    "extraction.extract_files()\n",
    "schema = extraction.get_schema()\n"
   ]
  },
  {
   "attachments": {},
   "cell_type": "markdown",
   "metadata": {},
   "source": [
    "# Transform\n",
    "In order to make changes in the data, first we have to take a look to find any possible issues."
   ]
  },
  {
   "cell_type": "code",
   "execution_count": 76,
   "metadata": {},
   "outputs": [
    {
     "name": "stdout",
     "output_type": "stream",
     "text": [
      "0\n"
     ]
    }
   ],
   "source": [
    "with open('schema.json', 'r') as file: \n",
    "    schema = json.load(file)\n",
    "    discarded = []\n",
    "    for table_name in schema:\n",
    "        cols =  []\n",
    "        table = schema[table_name]['columns']\n",
    "        for column in table:\n",
    "            #cols.update( {'name' : column['name'],'type' : column['type']} )\n",
    "            try:\n",
    "                if column['description'][11] == 'Foreign key':\n",
    "                    print(column['description'])\n",
    "                    discarded.append(table_name)\n",
    "            except: \n",
    "                continue\n",
    "            should_avoid = set(discarded)\n",
    "            cols.append((column['type'], column['name']))\n",
    "    print(len(should_avoid))"
   ]
  }
 ],
 "metadata": {
  "kernelspec": {
   "display_name": "Python 3",
   "language": "python",
   "name": "python3"
  },
  "language_info": {
   "codemirror_mode": {
    "name": "ipython",
    "version": 3
   },
   "file_extension": ".py",
   "mimetype": "text/x-python",
   "name": "python",
   "nbconvert_exporter": "python",
   "pygments_lexer": "ipython3",
   "version": "3.9.16 (main, Dec  7 2022, 10:02:13) \n[Clang 14.0.0 (clang-1400.0.29.202)]"
  },
  "orig_nbformat": 4,
  "vscode": {
   "interpreter": {
    "hash": "a665b5d41d17b532ea9890333293a1b812fa0b73c9c25c950b3cedf1bebd0438"
   }
  }
 },
 "nbformat": 4,
 "nbformat_minor": 2
}
