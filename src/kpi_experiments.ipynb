{
 "cells": [
  {
   "cell_type": "code",
   "execution_count": 4,
   "metadata": {},
   "outputs": [],
   "source": [
    "import pandas as pd\n",
    "\n",
    "def get_semester_dates(year, semester):\n",
    "    \"\"\"\n",
    "    Returns the start and end date of the semester based on the given year and semester type, respecting UTC time.\n",
    "    Semesters:\n",
    "    - Spring: January to June\n",
    "    - Summer: June to July\n",
    "    - Winter: August to December\n",
    "    \"\"\"\n",
    "    if semester == 'Spring':\n",
    "        return pd.Timestamp(f'{year}-01-01', tz='UTC'), pd.Timestamp(f'{year}-06-30', tz='UTC')\n",
    "    elif semester == 'Summer':\n",
    "        return pd.Timestamp(f'{year}-06-01', tz='UTC'), pd.Timestamp(f'{year}-07-31', tz='UTC')\n",
    "    elif semester == 'Winter':\n",
    "        return pd.Timestamp(f'{year}-08-01', tz='UTC'), pd.Timestamp(f'{year}-12-31', tz='UTC')\n",
    "    else:\n",
    "        raise ValueError(\"Invalid semester. Choose between 'Spring', 'Summer', or 'Winter'.\")\n"
   ]
  },
  {
   "cell_type": "code",
   "execution_count": 7,
   "metadata": {},
   "outputs": [],
   "source": [
    "def create_course_availability_and_activity_for_semester(courses, year, semester):\n",
    "    # Get the start and end date for the selected semester with UTC time\n",
    "    start_semester, end_semester = get_semester_dates(year, semester)\n",
    "\n",
    "    # Convert course dates to UTC\n",
    "    courses['start_at'] = pd.to_datetime(courses['start_at'], utc=True)\n",
    "    courses['end_at'] = pd.to_datetime(courses['end_at'], utc=True)\n",
    "\n",
    "    # Filter active courses within the semester\n",
    "    active_courses = courses[\n",
    "        (courses['workflow_state'] == 'active') &\n",
    "        (courses['start_at'] <= end_semester) &\n",
    "        ((courses['end_at'] >= start_semester) | courses['end_at'].isna())\n",
    "    ]\n",
    "\n",
    "    # Filter inactive courses within the semester\n",
    "    inactive_courses = courses[\n",
    "        (courses['workflow_state'] != 'active') &\n",
    "        (courses['start_at'] <= end_semester) &\n",
    "        (courses['end_at'] < start_semester) & \n",
    "        courses['end_at'].notna()  # Ensure the course has ended\n",
    "    ]\n",
    "\n",
    "    # Calculate counts\n",
    "    active_count = active_courses.shape[0]\n",
    "    inactive_count = inactive_courses.shape[0]\n",
    "\n",
    "    # Calculate ratio of active to inactive courses\n",
    "    if inactive_count > 0:\n",
    "        ratio_active_to_inactive = active_count / inactive_count\n",
    "    else:\n",
    "        ratio_active_to_inactive = float('inf')\n",
    "\n",
    "    return active_count, inactive_count, ratio_active_to_inactive\n"
   ]
  },
  {
   "cell_type": "code",
   "execution_count": 51,
   "metadata": {},
   "outputs": [
    {
     "name": "stdout",
     "output_type": "stream",
     "text": [
      "65.97918946301924\n"
     ]
    }
   ],
   "source": [
    "from utils.constants import SCORES_PATH, ENROLLMENTS_PATH\n",
    "scores_df = pd.read_csv(SCORES_PATH)\n",
    "enrollments_df = pd.read_csv(ENROLLMENTS_PATH)\n",
    "\n",
    "def calculate_average_score(scores, year, semester):\n",
    "    start_semester, end_semester = get_semester_dates(year, semester)\n",
    "\n",
    "    scores_df['value.updated_at'] = pd.to_datetime(scores_df['value.updated_at'])\n",
    "\n",
    "    filtered_scores = scores_df[\n",
    "        (scores_df['value.updated_at'] >= start_semester) & \n",
    "        (scores_df['value.updated_at'] <= end_semester) & \n",
    "        (scores_df['value.workflow_state'] == 'active')  # Consider only active scores\n",
    "    ]\n",
    "\n",
    "    if filtered_scores.empty:\n",
    "        return 0.0\n",
    "\n",
    "    average_score = filtered_scores['value.current_score'].mean()\n",
    "    return average_score\n",
    "\n",
    "# Example usage:\n",
    "# Assuming 'scores_df' is the DataFrame from the CSV provided, and filtering for Spring 2023:\n",
    "average_score_spring_2023 = calculate_average_score(scores_df, 2023, 'Summer')\n",
    "print(average_score_spring_2023)\n",
    "# print(f\"Average score for Spring 2023: {average_score_spring_2023:.2f}\")"
   ]
  },
  {
   "cell_type": "code",
   "execution_count": 47,
   "metadata": {},
   "outputs": [
    {
     "name": "stdout",
     "output_type": "stream",
     "text": [
      "Average score for Spring 2023: 67.86\n"
     ]
    }
   ],
   "source": [
    "average_score_spring_2023 = calculate_average_score(scores_df, 2022, 'Winter')\n",
    "print(f\"Average score for Spring 2023: {average_score_spring_2023:.2f}\")"
   ]
  },
  {
   "cell_type": "code",
   "execution_count": 70,
   "metadata": {},
   "outputs": [],
   "source": [
    "def calculate_score_distribution(scores_df, year, semester):\n",
    "\n",
    "    scores_df['value.created_at'] = pd.to_datetime(scores_df['value.created_at'], errors='coerce')\n",
    "    scores_df['value.updated_at'] = pd.to_datetime(scores_df['value.updated_at'], errors='coerce')\n",
    "    scores_df = scores_df.dropna(subset=['value.created_at'])\n",
    "\n",
    "    start_date, end_date = get_semester_dates(year, semester)\n",
    "\n",
    "    filtered_scores = scores_df[\n",
    "        (scores_df['value.created_at'] <= end_date) &   \n",
    "        ((scores_df['value.updated_at'] >= start_date) |\n",
    "         (scores_df['value.updated_at'].isna()))  \n",
    "    ]\n",
    "\n",
    "    scores = filtered_scores['value.final_score'].dropna()\n",
    "\n",
    "    return scores\n",
    "\n"
   ]
  },
  {
   "cell_type": "code",
   "execution_count": 71,
   "metadata": {},
   "outputs": [
    {
     "name": "stdout",
     "output_type": "stream",
     "text": [
      "scores are:  27         90.0\n",
      "30          0.0\n",
      "43         95.0\n",
      "148        50.5\n",
      "161        88.0\n",
      "           ... \n",
      "1071544     0.0\n",
      "1071545     0.0\n",
      "1071546     0.0\n",
      "1071549     0.0\n",
      "1071550     0.0\n",
      "Name: value.final_score, Length: 97228, dtype: float64\n"
     ]
    },
    {
     "data": {
      "text/plain": [
       "(97228,)"
      ]
     },
     "execution_count": 71,
     "metadata": {},
     "output_type": "execute_result"
    }
   ],
   "source": [
    "scores = calculate_score_distribution(scores_df, 2024, 'Spring')\n",
    "print(\"scores are: \", scores)\n",
    "scores.shape"
   ]
  }
 ],
 "metadata": {
  "kernelspec": {
   "display_name": ".venv",
   "language": "python",
   "name": "python3"
  },
  "language_info": {
   "codemirror_mode": {
    "name": "ipython",
    "version": 3
   },
   "file_extension": ".py",
   "mimetype": "text/x-python",
   "name": "python",
   "nbconvert_exporter": "python",
   "pygments_lexer": "ipython3",
   "version": "3.12.2"
  }
 },
 "nbformat": 4,
 "nbformat_minor": 2
}
