{
 "cells": [
  {
   "cell_type": "code",
   "execution_count": 4,
   "metadata": {},
   "outputs": [],
   "source": [
    "import pandas as pd\n",
    "\n",
    "def get_semester_dates(year, semester):\n",
    "    \"\"\"\n",
    "    Returns the start and end date of the semester based on the given year and semester type, respecting UTC time.\n",
    "    Semesters:\n",
    "    - Spring: January to June\n",
    "    - Summer: June to July\n",
    "    - Winter: August to December\n",
    "    \"\"\"\n",
    "    if semester == 'Spring':\n",
    "        return pd.Timestamp(f'{year}-01-01', tz='UTC'), pd.Timestamp(f'{year}-06-30', tz='UTC')\n",
    "    elif semester == 'Summer':\n",
    "        return pd.Timestamp(f'{year}-06-01', tz='UTC'), pd.Timestamp(f'{year}-07-31', tz='UTC')\n",
    "    elif semester == 'Winter':\n",
    "        return pd.Timestamp(f'{year}-08-01', tz='UTC'), pd.Timestamp(f'{year}-12-31', tz='UTC')\n",
    "    else:\n",
    "        raise ValueError(\"Invalid semester. Choose between 'Spring', 'Summer', or 'Winter'.\")\n"
   ]
  },
  {
   "cell_type": "code",
   "execution_count": 7,
   "metadata": {},
   "outputs": [],
   "source": [
    "def create_course_availability_and_activity_for_semester(courses, year, semester):\n",
    "    # Get the start and end date for the selected semester with UTC time\n",
    "    start_semester, end_semester = get_semester_dates(year, semester)\n",
    "\n",
    "    # Convert course dates to UTC\n",
    "    courses['start_at'] = pd.to_datetime(courses['start_at'], utc=True)\n",
    "    courses['end_at'] = pd.to_datetime(courses['end_at'], utc=True)\n",
    "\n",
    "    # Filter active courses within the semester\n",
    "    active_courses = courses[\n",
    "        (courses['workflow_state'] == 'active') &\n",
    "        (courses['start_at'] <= end_semester) &\n",
    "        ((courses['end_at'] >= start_semester) | courses['end_at'].isna())\n",
    "    ]\n",
    "\n",
    "    # Filter inactive courses within the semester\n",
    "    inactive_courses = courses[\n",
    "        (courses['workflow_state'] != 'active') &\n",
    "        (courses['start_at'] <= end_semester) &\n",
    "        (courses['end_at'] < start_semester) & \n",
    "        courses['end_at'].notna()  # Ensure the course has ended\n",
    "    ]\n",
    "\n",
    "    # Calculate counts\n",
    "    active_count = active_courses.shape[0]\n",
    "    inactive_count = inactive_courses.shape[0]\n",
    "\n",
    "    # Calculate ratio of active to inactive courses\n",
    "    if inactive_count > 0:\n",
    "        ratio_active_to_inactive = active_count / inactive_count\n",
    "    else:\n",
    "        ratio_active_to_inactive = float('inf')\n",
    "\n",
    "    return active_count, inactive_count, ratio_active_to_inactive\n"
   ]
  },
  {
   "cell_type": "code",
   "execution_count": null,
   "metadata": {},
   "outputs": [],
   "source": []
  }
 ],
 "metadata": {
  "kernelspec": {
   "display_name": ".venv",
   "language": "python",
   "name": "python3"
  },
  "language_info": {
   "codemirror_mode": {
    "name": "ipython",
    "version": 3
   },
   "file_extension": ".py",
   "mimetype": "text/x-python",
   "name": "python",
   "nbconvert_exporter": "python",
   "pygments_lexer": "ipython3",
   "version": "3.12.2"
  }
 },
 "nbformat": 4,
 "nbformat_minor": 2
}
