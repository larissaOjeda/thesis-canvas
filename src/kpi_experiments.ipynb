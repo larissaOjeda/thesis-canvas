{
 "cells": [
  {
   "cell_type": "code",
   "execution_count": 1,
   "metadata": {},
   "outputs": [],
   "source": [
    "import pandas as pd\n",
    "\n",
    "def get_semester_dates(year, semester):\n",
    "    \"\"\"\n",
    "    Returns the start and end date of the semester based on the given year and semester type, respecting UTC time.\n",
    "    Semesters:\n",
    "    - Spring: January to June\n",
    "    - Summer: June to July\n",
    "    - Winter: August to December\n",
    "    \"\"\"\n",
    "    if semester == 'Spring':\n",
    "        return pd.Timestamp(f'{year}-01-01', tz='UTC'), pd.Timestamp(f'{year}-06-30', tz='UTC')\n",
    "    elif semester == 'Summer':\n",
    "        return pd.Timestamp(f'{year}-06-01', tz='UTC'), pd.Timestamp(f'{year}-07-31', tz='UTC')\n",
    "    elif semester == 'Winter':\n",
    "        return pd.Timestamp(f'{year}-08-01', tz='UTC'), pd.Timestamp(f'{year}-12-31', tz='UTC')\n",
    "    else:\n",
    "        raise ValueError(\"Invalid semester. Choose between 'Spring', 'Summer', or 'Winter'.\")\n"
   ]
  },
  {
   "cell_type": "code",
   "execution_count": 7,
   "metadata": {},
   "outputs": [],
   "source": [
    "def create_course_availability_and_activity_for_semester(courses, year, semester):\n",
    "    # Get the start and end date for the selected semester with UTC time\n",
    "    start_semester, end_semester = get_semester_dates(year, semester)\n",
    "\n",
    "    # Convert course dates to UTC\n",
    "    courses['start_at'] = pd.to_datetime(courses['start_at'], utc=True)\n",
    "    courses['end_at'] = pd.to_datetime(courses['end_at'], utc=True)\n",
    "\n",
    "    # Filter active courses within the semester\n",
    "    active_courses = courses[\n",
    "        (courses['workflow_state'] == 'active') &\n",
    "        (courses['start_at'] <= end_semester) &\n",
    "        ((courses['end_at'] >= start_semester) | courses['end_at'].isna())\n",
    "    ]\n",
    "\n",
    "    # Filter inactive courses within the semester\n",
    "    inactive_courses = courses[\n",
    "        (courses['workflow_state'] != 'active') &\n",
    "        (courses['start_at'] <= end_semester) &\n",
    "        (courses['end_at'] < start_semester) & \n",
    "        courses['end_at'].notna()  # Ensure the course has ended\n",
    "    ]\n",
    "\n",
    "    # Calculate counts\n",
    "    active_count = active_courses.shape[0]\n",
    "    inactive_count = inactive_courses.shape[0]\n",
    "\n",
    "    # Calculate ratio of active to inactive courses\n",
    "    if inactive_count > 0:\n",
    "        ratio_active_to_inactive = active_count / inactive_count\n",
    "    else:\n",
    "        ratio_active_to_inactive = float('inf')\n",
    "\n",
    "    return active_count, inactive_count, ratio_active_to_inactive\n"
   ]
  },
  {
   "cell_type": "code",
   "execution_count": 51,
   "metadata": {},
   "outputs": [
    {
     "name": "stdout",
     "output_type": "stream",
     "text": [
      "65.97918946301924\n"
     ]
    }
   ],
   "source": [
    "from utils.constants import SCORES_PATH, ENROLLMENTS_PATH\n",
    "scores_df = pd.read_csv(SCORES_PATH)\n",
    "enrollments_df = pd.read_csv(ENROLLMENTS_PATH)\n",
    "\n",
    "def calculate_average_score(scores, year, semester):\n",
    "    start_semester, end_semester = get_semester_dates(year, semester)\n",
    "\n",
    "    scores_df['value.updated_at'] = pd.to_datetime(scores_df['value.updated_at'])\n",
    "\n",
    "    filtered_scores = scores_df[\n",
    "        (scores_df['value.updated_at'] >= start_semester) & \n",
    "        (scores_df['value.updated_at'] <= end_semester) & \n",
    "        (scores_df['value.workflow_state'] == 'active')  # Consider only active scores\n",
    "    ]\n",
    "\n",
    "    if filtered_scores.empty:\n",
    "        return 0.0\n",
    "\n",
    "    average_score = filtered_scores['value.current_score'].mean()\n",
    "    return average_score\n",
    "\n",
    "# Example usage:\n",
    "# Assuming 'scores_df' is the DataFrame from the CSV provided, and filtering for Spring 2023:\n",
    "average_score_spring_2023 = calculate_average_score(scores_df, 2023, 'Summer')\n",
    "print(average_score_spring_2023)\n",
    "# print(f\"Average score for Spring 2023: {average_score_spring_2023:.2f}\")"
   ]
  },
  {
   "cell_type": "code",
   "execution_count": 47,
   "metadata": {},
   "outputs": [
    {
     "name": "stdout",
     "output_type": "stream",
     "text": [
      "Average score for Spring 2023: 67.86\n"
     ]
    }
   ],
   "source": [
    "average_score_spring_2023 = calculate_average_score(scores_df, 2022, 'Winter')\n",
    "print(f\"Average score for Spring 2023: {average_score_spring_2023:.2f}\")"
   ]
  },
  {
   "cell_type": "code",
   "execution_count": 75,
   "metadata": {},
   "outputs": [],
   "source": [
    "def calculate_score_distribution(scores_df, year, semester):\n",
    "\n",
    "    scores_df['value.created_at'] = pd.to_datetime(scores_df['value.created_at'], utc=True)\n",
    "    scores_df['value.updated_at'] = pd.to_datetime(scores_df['value.updated_at'], utc=True)\n",
    "    scores_df = scores_df.dropna(subset=['value.created_at'])\n",
    "\n",
    "    start_date, end_date = get_semester_dates(year, semester)\n",
    "\n",
    "    filtered_scores = scores_df[\n",
    "        (scores_df['value.created_at'] <= end_date) &   \n",
    "        ((scores_df['value.updated_at'] >= start_date) |\n",
    "         (scores_df['value.updated_at'].isna()))  \n",
    "    ]\n",
    "\n",
    "    scores = filtered_scores['value.final_score'].dropna()\n",
    "\n",
    "    return scores\n",
    "\n"
   ]
  },
  {
   "cell_type": "code",
   "execution_count": 71,
   "metadata": {},
   "outputs": [
    {
     "name": "stdout",
     "output_type": "stream",
     "text": [
      "scores are:  27         90.0\n",
      "30          0.0\n",
      "43         95.0\n",
      "148        50.5\n",
      "161        88.0\n",
      "           ... \n",
      "1071544     0.0\n",
      "1071545     0.0\n",
      "1071546     0.0\n",
      "1071549     0.0\n",
      "1071550     0.0\n",
      "Name: value.final_score, Length: 97228, dtype: float64\n"
     ]
    },
    {
     "data": {
      "text/plain": [
       "(97228,)"
      ]
     },
     "execution_count": 71,
     "metadata": {},
     "output_type": "execute_result"
    }
   ],
   "source": [
    "scores = calculate_score_distribution(scores_df, 2024, 'Spring')\n",
    "print(\"scores are: \", scores)\n",
    "scores.shape"
   ]
  },
  {
   "cell_type": "code",
   "execution_count": 78,
   "metadata": {},
   "outputs": [],
   "source": [
    "def calculate_average_feedback_time(submissions_df, year, semester):\n",
    "    submissions_df['value.created_at'] = pd.to_datetime(submissions_df['value.created_at'], utc=True)\n",
    "    submissions_df['value.updated_at'] = pd.to_datetime(submissions_df['value.updated_at'], utc=True)\n",
    "\n",
    "    start_date, end_date = get_semester_dates(year, semester)\n",
    "\n",
    "    filtered_submissions = submissions_df[\n",
    "        (submissions_df['value.created_at'] >= start_date) & \n",
    "        (submissions_df['value.created_at'] <= end_date)\n",
    "    ]\n",
    "\n",
    "    filtered_submissions['feedback_time'] = (filtered_submissions['value.updated_at'] - filtered_submissions['value.created_at']).dt.days\n",
    "\n",
    "    return filtered_submissions[['feedback_time']].dropna()\n"
   ]
  },
  {
   "cell_type": "code",
   "execution_count": 7,
   "metadata": {},
   "outputs": [
    {
     "name": "stderr",
     "output_type": "stream",
     "text": [
      "/var/folders/cj/p3yg45h13dv_1n4x8d34dy300000gn/T/ipykernel_58578/3792738354.py:2: DtypeWarning: Columns (8,9,10,11,15,19,20,21,22,24,25,30,32,33,34,37,39,44,45) have mixed types. Specify dtype option on import or set low_memory=False.\n",
      "  submissions_df = pd.read_csv(SUBMISSIONS_PATH)\n"
     ]
    }
   ],
   "source": [
    "from utils.constants import SUBMISSIONS_PATH\n",
    "submissions_df = pd.read_csv(SUBMISSIONS_PATH)\n",
    "year = 2024\n",
    "semester = \"Spring\"\n",
    "# avg_feedback_time = calculate_average_feedback_time(submissions_df, year, semester)\n",
    "# print(avg_feedback_time)"
   ]
  },
  {
   "cell_type": "code",
   "execution_count": 8,
   "metadata": {},
   "outputs": [],
   "source": [
    "import pandas as pd\n",
    "import numpy as np\n",
    "\n",
    "def calculate_average_feedback_time(submissions_df, year, semester):\n",
    "    # Convert dates to datetime\n",
    "    submissions_df['value.created_at'] = pd.to_datetime(submissions_df['value.created_at'], utc=True)\n",
    "    submissions_df['value.updated_at'] = pd.to_datetime(submissions_df['value.updated_at'], utc=True)\n",
    "\n",
    "    # Get semester start and end dates\n",
    "    start_date, end_date = get_semester_dates(year, semester)\n",
    "\n",
    "    # Filter submissions by semester\n",
    "    filtered_submissions = submissions_df[\n",
    "        (submissions_df['value.created_at'] >= start_date) & \n",
    "        (submissions_df['value.created_at'] <= end_date)\n",
    "    ]\n",
    "\n",
    "    # Calculate feedback time in hours\n",
    "    filtered_submissions['feedback_time'] = (\n",
    "        filtered_submissions['value.updated_at'] - filtered_submissions['value.created_at']\n",
    "    ).dt.total_seconds() / 3600\n",
    "\n",
    "    # Remove rows with NaN feedback times\n",
    "    filtered_submissions = filtered_submissions.dropna(subset=['feedback_time'])\n",
    "\n",
    "    # Calculate average feedback time per course\n",
    "    avg_feedback_time_per_course = filtered_submissions.groupby('value.course_id')['feedback_time'].mean().reset_index()\n",
    "\n",
    "    # Rename columns for clarity\n",
    "    avg_feedback_time_per_course.columns = ['value.course_id', 'average_feedback_time']\n",
    "\n",
    "    return avg_feedback_time_per_course\n"
   ]
  },
  {
   "cell_type": "code",
   "execution_count": 9,
   "metadata": {},
   "outputs": [
    {
     "name": "stdout",
     "output_type": "stream",
     "text": [
      "     value.course_id  average_feedback_time\n",
      "0               3203               0.002404\n",
      "1               3577            1581.234593\n",
      "2               3904               0.000000\n",
      "3               6309               0.012713\n",
      "4               6349             517.929287\n",
      "..               ...                    ...\n",
      "439            12279             561.380041\n",
      "440            12283             506.386754\n",
      "441            12284            1613.543194\n",
      "442            12292            1385.362135\n",
      "443            12295            2067.664797\n",
      "\n",
      "[444 rows x 2 columns]\n"
     ]
    },
    {
     "name": "stderr",
     "output_type": "stream",
     "text": [
      "/var/folders/cj/p3yg45h13dv_1n4x8d34dy300000gn/T/ipykernel_58578/1367440548.py:19: SettingWithCopyWarning: \n",
      "A value is trying to be set on a copy of a slice from a DataFrame.\n",
      "Try using .loc[row_indexer,col_indexer] = value instead\n",
      "\n",
      "See the caveats in the documentation: https://pandas.pydata.org/pandas-docs/stable/user_guide/indexing.html#returning-a-view-versus-a-copy\n",
      "  filtered_submissions['feedback_time'] = (\n"
     ]
    }
   ],
   "source": [
    "print(calculate_average_feedback_time(submissions_df, year, semester))"
   ]
  },
  {
   "cell_type": "code",
   "execution_count": 10,
   "metadata": {},
   "outputs": [
    {
     "name": "stderr",
     "output_type": "stream",
     "text": [
      "/var/folders/cj/p3yg45h13dv_1n4x8d34dy300000gn/T/ipykernel_58578/1478039901.py:13: DtypeWarning: Columns (8,9,10,11,15,19,20,21,22,24,25,30,32,33,34,37,39,44,45) have mixed types. Specify dtype option on import or set low_memory=False.\n",
      "  submissions_df = pd.read_csv(constants.SUBMISSIONS_PATH)\n"
     ]
    },
    {
     "name": "stdout",
     "output_type": "stream",
     "text": [
      "ColumnDataSource(id='p1001', ...)\n"
     ]
    },
    {
     "name": "stderr",
     "output_type": "stream",
     "text": [
      "/Users/larissatrasvina/thesis-canvas/src/kpi_calculator.py:151: SettingWithCopyWarning: \n",
      "A value is trying to be set on a copy of a slice from a DataFrame.\n",
      "Try using .loc[row_indexer,col_indexer] = value instead\n",
      "\n",
      "See the caveats in the documentation: https://pandas.pydata.org/pandas-docs/stable/user_guide/indexing.html#returning-a-view-versus-a-copy\n",
      "  filtered_submissions['feedback_time'] = (\n"
     ]
    }
   ],
   "source": [
    "from bokeh.io import curdoc\n",
    "from bokeh.layouts import column\n",
    "from bokeh.models import ColumnDataSource, HoverTool, ColorBar, LinearColorMapper\n",
    "from bokeh.plotting import figure\n",
    "from bokeh.transform import linear_cmap\n",
    "from bokeh.palettes import Viridis256\n",
    "import pandas as pd\n",
    "\n",
    "from utils import constants  # Assuming this imports constants used elsewhere\n",
    "from kpi_calculator import calculate_average_feedback_time\n",
    "\n",
    "# Read CSV data\n",
    "submissions_df = pd.read_csv(constants.SUBMISSIONS_PATH)\n",
    "\n",
    "# Calculate average feedback time per course (assuming the function returns a DataFrame)\n",
    "avg_feedback_time_per_course = calculate_average_feedback_time(submissions_df, year=2024, semester='Spring')\n",
    "\n",
    "# Prepare data for plotting (using `.loc` for modification)\n",
    "avg_feedback_time_per_course.loc[:, 'size'] = (\n",
    "    avg_feedback_time_per_course['average_feedback_time'] /\n",
    "    avg_feedback_time_per_course['average_feedback_time'].max() * 40\n",
    ")\n",
    "\n",
    "# Create ColumnDataSource with the modified DataFrame\n",
    "feedback_time_bubble_source = ColumnDataSource(avg_feedback_time_per_course)\n",
    "print(feedback_time_bubble_source)"
   ]
  },
  {
   "cell_type": "code",
   "execution_count": 11,
   "metadata": {},
   "outputs": [
    {
     "name": "stdout",
     "output_type": "stream",
     "text": [
      "     value.course_id  average_feedback_time       size\n",
      "0               3203               0.002404   0.000040\n",
      "1               3577            1581.234593  26.393248\n",
      "2               3904               0.000000   0.000000\n",
      "3               6309               0.012713   0.000212\n",
      "4               6349             517.929287   8.645040\n",
      "..               ...                    ...        ...\n",
      "439            12279             561.380041   9.370300\n",
      "440            12283             506.386754   8.452377\n",
      "441            12284            1613.543194  26.932529\n",
      "442            12292            1385.362135  23.123834\n",
      "443            12295            2067.664797  34.512520\n",
      "\n",
      "[444 rows x 3 columns]\n"
     ]
    }
   ],
   "source": [
    "print(avg_feedback_time_per_course)"
   ]
  },
  {
   "cell_type": "code",
   "execution_count": 15,
   "metadata": {},
   "outputs": [],
   "source": [
    "def calculate_feedback_time_vs_assignment_count(submissions_df, year, semester):\n",
    "    # Convert dates to datetime\n",
    "    submissions_df['value.created_at'] = pd.to_datetime(submissions_df['value.created_at'], utc=True)\n",
    "    submissions_df['value.updated_at'] = pd.to_datetime(submissions_df['value.updated_at'], utc=True)\n",
    "\n",
    "    # Get semester start and end dates\n",
    "    start_date, end_date = get_semester_dates(year, semester)\n",
    "\n",
    "    # Filter submissions by semester\n",
    "    filtered_submissions = submissions_df[\n",
    "        (submissions_df['value.created_at'] >= start_date) & \n",
    "        (submissions_df['value.created_at'] <= end_date)\n",
    "    ]\n",
    "\n",
    "    # Calculate feedback time in hours\n",
    "    filtered_submissions['feedback_time'] = (\n",
    "        filtered_submissions['value.updated_at'] - filtered_submissions['value.created_at']\n",
    "    ).dt.total_seconds() / 3600\n",
    "\n",
    "    # Remove rows with NaN feedback times\n",
    "    filtered_submissions = filtered_submissions.dropna(subset=['feedback_time'])\n",
    "\n",
    "    # Calculate average feedback time per course\n",
    "    avg_feedback_time_per_course = filtered_submissions.groupby('value.course_id')['feedback_time'].mean().reset_index()\n",
    "    avg_feedback_time_per_course.columns = ['value.course_id', 'average_feedback_time']\n",
    "\n",
    "    # Calculate the number of assignments per course\n",
    "    assignment_count_per_course = filtered_submissions.groupby('value.course_id').size().reset_index(name='assignment_count')\n",
    "\n",
    "    # Merge the two results to have both average feedback time and assignment count per course\n",
    "    feedback_time_vs_assignment_count = avg_feedback_time_per_course.merge(\n",
    "        assignment_count_per_course, on='value.course_id'\n",
    "    )\n",
    "\n",
    "    return feedback_time_vs_assignment_count\n",
    "\n"
   ]
  },
  {
   "cell_type": "code",
   "execution_count": 16,
   "metadata": {},
   "outputs": [
    {
     "name": "stdout",
     "output_type": "stream",
     "text": [
      "     value.course_id  average_feedback_time  assignment_count\n",
      "0               3203               0.002404                15\n",
      "1               3577            1581.234593                 1\n",
      "2               3904               0.000000                 2\n",
      "3               6309               0.012713                 3\n",
      "4               6349             517.929287               120\n",
      "..               ...                    ...               ...\n",
      "439            12279             561.380041               224\n",
      "440            12283             506.386754               629\n",
      "441            12284            1613.543194               216\n",
      "442            12292            1385.362135               329\n",
      "443            12295            2067.664797               110\n",
      "\n",
      "[444 rows x 3 columns]\n"
     ]
    },
    {
     "name": "stderr",
     "output_type": "stream",
     "text": [
      "/var/folders/cj/p3yg45h13dv_1n4x8d34dy300000gn/T/ipykernel_58578/414006931.py:16: SettingWithCopyWarning: \n",
      "A value is trying to be set on a copy of a slice from a DataFrame.\n",
      "Try using .loc[row_indexer,col_indexer] = value instead\n",
      "\n",
      "See the caveats in the documentation: https://pandas.pydata.org/pandas-docs/stable/user_guide/indexing.html#returning-a-view-versus-a-copy\n",
      "  filtered_submissions['feedback_time'] = (\n"
     ]
    }
   ],
   "source": [
    "print(calculate_feedback_time_vs_assignment_count(submissions_df, year, semester))"
   ]
  }
 ],
 "metadata": {
  "kernelspec": {
   "display_name": ".venv",
   "language": "python",
   "name": "python3"
  },
  "language_info": {
   "codemirror_mode": {
    "name": "ipython",
    "version": 3
   },
   "file_extension": ".py",
   "mimetype": "text/x-python",
   "name": "python",
   "nbconvert_exporter": "python",
   "pygments_lexer": "ipython3",
   "version": "3.12.2"
  }
 },
 "nbformat": 4,
 "nbformat_minor": 2
}
