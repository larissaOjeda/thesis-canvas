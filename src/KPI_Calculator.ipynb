{
 "cells": [
  {
   "cell_type": "code",
   "execution_count": 2,
   "metadata": {},
   "outputs": [],
   "source": [
    "from bokeh.plotting import figure, show\n",
    "from bokeh.models import ColumnDataSource, HoverTool\n",
    "from bokeh.palettes import Viridis256\n",
    "from bokeh.io import save\n",
    "\n",
    "import pandas as pd"
   ]
  },
  {
   "cell_type": "markdown",
   "metadata": {},
   "source": [
    "# Cursos activos en Canvas\n",
    "\n",
    "TODO: Agregar el filtro por periodo "
   ]
  },
  {
   "cell_type": "code",
   "execution_count": 10,
   "metadata": {},
   "outputs": [
    {
     "name": "stdout",
     "output_type": "stream",
     "text": [
      "Total Courses: 16802\n",
      "Active Courses: 11071\n",
      "Active Courses Rate: 65.89%\n",
      "Deleted Courses: 11071\n",
      "Deleted Courses Rate: 18.38%\n"
     ]
    },
    {
     "name": "stderr",
     "output_type": "stream",
     "text": [
      "/var/folders/cj/p3yg45h13dv_1n4x8d34dy300000gn/T/ipykernel_52502/1396638525.py:64: UserWarning: save() called but no resources were supplied and output_file(...) was never called, defaulting to resources.CDN\n",
      "  save(p, \"active_vs_deleted_courses_rate.html\")\n",
      "/var/folders/cj/p3yg45h13dv_1n4x8d34dy300000gn/T/ipykernel_52502/1396638525.py:64: UserWarning: save() called but no title was supplied and output_file(...) was never called, using default title 'Bokeh Plot'\n",
      "  save(p, \"active_vs_deleted_courses_rate.html\")\n"
     ]
    }
   ],
   "source": [
    "filename = \"../src/CSVs/context_modules.csv\"\n",
    "# Read the CSV file into a pandas DataFrame\n",
    "df = pd.read_csv(f\"{filename}\")\n",
    "\n",
    "# Drop duplicates based on two columns 'value.name' and 'value.workflow_state' to get total courses\n",
    "total_courses = df.drop_duplicates(subset=['value.name', 'value.workflow_state', 'value.id'])\n",
    "\n",
    "# Filter the DataFrame to get only active courses\n",
    "active_courses = total_courses[total_courses['value.workflow_state'] == 'active']\n",
    "deleted_courses = total_courses[total_courses['value.workflow_state'] == 'deleted']\n",
    "\n",
    "# Calculate the active courses rate\n",
    "active_courses_rate = len(active_courses) / len(total_courses)\n",
    "deleted_courses_rate = len(deleted_courses) / len(total_courses)\n",
    "\n",
    "\n",
    "# Print the results\n",
    "print(f\"Total Courses: {len(total_courses)}\")\n",
    "print(f\"Active Courses: {len(active_courses)}\")\n",
    "print(f\"Active Courses Rate: {active_courses_rate:.2%}\")\n",
    "print(f\"Deleted Courses: {len(active_courses)}\")\n",
    "print(f\"Deleted Courses Rate: {deleted_courses_rate:.2%}\")\n",
    "\n",
    "blue_color = \"#2D92B2\"\n",
    "# Create a new dictionary to store the data for the bar plot\n",
    "data = {\n",
    "    \"Workflow State\": [\"Active\", \"Deleted\"],\n",
    "    \"Courses Rate\": [active_courses_rate, deleted_courses_rate],\n",
    "    \"Color\": [\"green\", blue_color]\n",
    "}\n",
    "\n",
    "# Create a new figure object\n",
    "p = figure(\n",
    "    x_range=[\"Active\", \"Deleted\"],\n",
    "    height=400,\n",
    "    title=\"Active vs Deleted Courses Rate Aggregated data till 2023)\",\n",
    "    toolbar_location=\"right\",\n",
    "    tools=\"pan,box_zoom,wheel_zoom,reset,save\"\n",
    ")\n",
    "\n",
    "# Add HoverTool with tooltips\n",
    "hover = HoverTool()\n",
    "hover.tooltips = [\n",
    "    (\"Rate\", \"@top{0.00%}\"),\n",
    "    (\"Color\", \"$color[swatch]:fill_color\")\n",
    "]\n",
    "p.add_tools(hover)\n",
    "\n",
    "# Create the bar plot\n",
    "p.vbar(\n",
    "    x=\"Workflow State\",\n",
    "    top=\"Courses Rate\",\n",
    "    width=0.5,\n",
    "    source=data,\n",
    "    color=\"Color\",\n",
    ")\n",
    "\n",
    "# Add labels and title to the axes\n",
    "p.xaxis.axis_label = \"Workflow State\"\n",
    "p.yaxis.axis_label = \"Courses Rate\"\n",
    "p.y_range.start = 0\n",
    "p.y_range.end = 1\n",
    "\n",
    "save(p, \"active_vs_deleted_courses_rate.html\")\n",
    "\n",
    "# Display the plot\n",
    "show(p)\n",
    "\n"
   ]
  },
  {
   "cell_type": "markdown",
   "metadata": {},
   "source": [
    "# Módulos"
   ]
  },
  {
   "cell_type": "code",
   "execution_count": 7,
   "metadata": {},
   "outputs": [
    {
     "name": "stdout",
     "output_type": "stream",
     "text": [
      "Total Modules: 16802\n",
      "Active Modules: 11071\n",
      "Active Modules Rate: 65.89%\n",
      "Deleted Modules: 3088\n",
      "Deleted Modules Rate: 18.38%\n",
      "Unpublished Modules Rate: 15.73%\n"
     ]
    },
    {
     "name": "stderr",
     "output_type": "stream",
     "text": [
      "/var/folders/cj/p3yg45h13dv_1n4x8d34dy300000gn/T/ipykernel_52502/1787033301.py:68: UserWarning: save() called but no resources were supplied and output_file(...) was never called, defaulting to resources.CDN\n",
      "  save(p, \"modules_rates.html\")\n",
      "/var/folders/cj/p3yg45h13dv_1n4x8d34dy300000gn/T/ipykernel_52502/1787033301.py:68: UserWarning: save() called but no title was supplied and output_file(...) was never called, using default title 'Bokeh Plot'\n",
      "  save(p, \"modules_rates.html\")\n"
     ]
    }
   ],
   "source": [
    "filename = \"../src/CSVs/context_modules.csv\"\n",
    "# Read the CSV file into a pandas DataFrame\n",
    "df = pd.read_csv(f\"{filename}\")\n",
    "\n",
    "# Drop duplicates based on two columns 'value.name' and 'value.workflow_state' to get total modules\n",
    "total_modules = df.drop_duplicates(subset=['value.name', 'value.workflow_state'])\n",
    "\n",
    "# Filter the DataFrame to get only active courses\n",
    "active_modules = total_modules[total_modules['value.workflow_state'] == 'active']\n",
    "deleted_modules = total_modules[total_modules['value.workflow_state'] == 'deleted']\n",
    "unpublished_modules = total_modules[total_modules['value.workflow_state'] == 'unpublished']\n",
    "\n",
    "# Calculate the active courses rate\n",
    "active_modules_rate = len(active_modules) / len(total_modules)\n",
    "deleted_modules_rate = len(deleted_modules) / len(total_modules)\n",
    "unpublished_modules_rate = len(unpublished_modules) / len(total_modules)\n",
    "\n",
    "# Print the results\n",
    "print(f\"Total Modules: {len(total_modules)}\")\n",
    "print(f\"Active Modules: {len(active_modules)}\")\n",
    "print(f\"Active Modules Rate: {active_modules_rate:.2%}\")\n",
    "print(f\"Deleted Modules: {len(deleted_modules)}\")\n",
    "print(f\"Deleted Modules Rate: {deleted_modules_rate:.2%}\")\n",
    "print(f\"Unpublished Modules Rate: {unpublished_modules_rate:.2%}\")\n",
    "\n",
    "\n",
    "blue_color = \"#2D92B2\"\n",
    "yellow_color = \"#FFBF00\"\n",
    "# Create a new dictionary to store the data for the bar plot\n",
    "data = {\n",
    "    \"Workflow State\": [\"Active\", \"Deleted\", \"Unpublished\"],\n",
    "    \"Modules Rate\": [active_modules_rate, deleted_modules_rate, unpublished_modules_rate],\n",
    "    \"Color\": [\"green\", blue_color, yellow_color]\n",
    "}\n",
    "\n",
    "# Create a new figure object\n",
    "p = figure(\n",
    "    x_range=[\"Active\", \"Deleted\", \"Unpublished\"],\n",
    "    height=400,\n",
    "    title=\"Active, Deleted and Deleted modules rate (Aggregated data till 2023)\",\n",
    "    toolbar_location=\"right\",\n",
    "    tools=\"pan,box_zoom,wheel_zoom,reset,save\"\n",
    ")\n",
    "\n",
    "# Add HoverTool with tooltips\n",
    "hover = HoverTool()\n",
    "hover.tooltips = [\n",
    "    (\"Rate\", \"@top{0.00%}\"),\n",
    "    (\"Color\", \"$color[swatch]:fill_color\")\n",
    "]\n",
    "p.add_tools(hover)\n",
    "\n",
    "# Create the bar plot\n",
    "p.vbar(\n",
    "    x=\"Workflow State\",\n",
    "    top=\"Modules Rate\",\n",
    "    width=0.5,\n",
    "    source=data,\n",
    "    color=\"Color\",\n",
    ")\n",
    "\n",
    "# Add labels and title to the axes\n",
    "p.xaxis.axis_label = \"Workflow State\"\n",
    "p.yaxis.axis_label = \"Modules Rate\"\n",
    "p.y_range.start = 0\n",
    "p.y_range.end = 1\n",
    "\n",
    "save(p, \"modules_rates.html\")\n",
    "\n",
    "# Display the plot\n",
    "show(p)\n"
   ]
  },
  {
   "cell_type": "code",
   "execution_count": 66,
   "metadata": {},
   "outputs": [
    {
     "name": "stdout",
     "output_type": "stream",
     "text": [
      "58039\n"
     ]
    },
    {
     "data": {
      "text/plain": [
       "True"
      ]
     },
     "execution_count": 66,
     "metadata": {},
     "output_type": "execute_result"
    }
   ],
   "source": [
    "unique_ids_count = df['key.id'].nunique()\n",
    "print(unique_ids_count) \n",
    "unique_ids_count == len(df['key.id'])"
   ]
  },
  {
   "cell_type": "markdown",
   "metadata": {},
   "source": []
  },
  {
   "cell_type": "markdown",
   "metadata": {},
   "source": [
    "1. que quiero mostrar?\n",
    "2. definir el KPI = formula del KPI\n",
    "3. de dónde salen los datos para la fórmula \n",
    "4. cuales son los marcos de tiempo"
   ]
  },
  {
   "cell_type": "code",
   "execution_count": 22,
   "metadata": {},
   "outputs": [],
   "source": [
    "path = \"/Users/larissatrasvina/thesis-canvas/src/courses/courses.csv\""
   ]
  },
  {
   "cell_type": "markdown",
   "metadata": {},
   "source": [
    "## KPIs\n",
    "### 1. Course Availability and Activity\n",
    "KPI: Ratio of active to inactive courses per semester.\n",
    "- Tables Used: courses\n",
    "- Relevant Fields:\n",
    "    - workflow_state: Indicates the status of the course (e.g., 'active', 'completed', 'deleted').\n",
    "    - created_at: Date the course was created.\n",
    "    - end_at: Date the course ended (used to determine if a course is inactive if it has ended).\n",
    "\n"
   ]
  },
  {
   "cell_type": "code",
   "execution_count": 2,
   "metadata": {},
   "outputs": [],
   "source": [
    "from typing import Tuple\n",
    "import pandas as pd \n",
    "\n",
    "courses_path = \"/Users/larissatrasvina/thesis-canvas/src/courses/courses.csv\"\n",
    "\n",
    "def create_course_availability_and_activity(courses_path: str) -> Tuple:\n",
    "    courses_df = pd.read_csv(courses_path)\n",
    "\n",
    "    courses_df['start_at'] =  pd.to_datetime(courses_df['value.created_at'])\n",
    "    courses_df['end_at'] = pd.to_datetime(courses_df['value.updated_at'])\n",
    "\n",
    "    # Define the semester start and end dates (naive timestamps)\n",
    "    semester_start_date = pd.to_datetime('2024-01-01', utc=True)\n",
    "    semester_end_date = pd.to_datetime('2024-05-31', utc=True)\n",
    "\n",
    "    # Filter for Active Courses within the semester\n",
    "    active_courses = courses_df[\n",
    "        (courses_df['value.workflow_state'] == 'available') &\n",
    "        (courses_df['start_at'] <= semester_end_date) &\n",
    "        ((courses_df['end_at'] >= semester_start_date) | (courses_df['end_at'].isna()))\n",
    "    ]\n",
    "\n",
    "    # Filter for Inactive Courses within the semester\n",
    "    inactive_courses = courses_df[\n",
    "        (courses_df['value.workflow_state'] != 'available') |\n",
    "        (courses_df['end_at'].notna() & (courses_df['end_at'] < semester_start_date))\n",
    "    ]\n",
    "\n",
    "    # Calculate the counts\n",
    "    active_count = active_courses.shape[0]\n",
    "    inactive_count = inactive_courses.shape[0]\n",
    "\n",
    "    # Calculate the Ratio of Active to Inactive Courses\n",
    "    if inactive_count > 0:\n",
    "        ratio_active_to_inactive = active_count / inactive_count\n",
    "    else:\n",
    "        ratio_active_to_inactive = float('inf')  # To handle division by zero if no inactive courses\n",
    "\n",
    "    return active_count, inactive_count, ratio_active_to_inactive\n",
    "\n",
    "active_count, inactive_count, ratio_active_to_inactive = create_course_availability_and_activity(courses_path)\n"
   ]
  },
  {
   "cell_type": "markdown",
   "metadata": {},
   "source": [
    "### 2. Student Retention Rate\n",
    "KPI: Percentage of students retained from the beginning to the end of the course.\n",
    "- Tables Used: enrollments\n",
    "- enrollments table:\n",
    "    - course_id: Identifies the course.\n",
    "    - user_id: Identifies the student.\n",
    "    - type: Identifies the type of enrollment (e.g., 'StudentEnrollment').\n",
    "    - state: Indicates the current state of the enrollment (e.g., 'active', 'completed', 'dropped')."
   ]
  },
  {
   "cell_type": "code",
   "execution_count": 10,
   "metadata": {},
   "outputs": [
    {
     "data": {
      "text/plain": [
       "34.93473287579061"
      ]
     },
     "execution_count": 10,
     "metadata": {},
     "output_type": "execute_result"
    }
   ],
   "source": [
    "enrollments_path = \"/Users/larissatrasvina/thesis-canvas/src/enrollments/enrollments.csv\"\n",
    "\n",
    "enrollments_df = pd.read_csv(enrollments_path)\n",
    "enrollments_df.head()\n",
    "\n",
    "enrollments_df['value.created_at'] = pd.to_datetime(enrollments_df['value.created_at']).dt.tz_convert(None)\n",
    "enrollments_df['value.updated_at'] = pd.to_datetime(enrollments_df['value.updated_at']).dt.tz_convert(None)\n",
    "\n",
    "# Define the semester start and end dates\n",
    "semester_start_date = pd.to_datetime('2024-01-01')\n",
    "semester_end_date = pd.to_datetime('2024-05-31')\n",
    "\n",
    "# Step 1: Initial Enrollment (students active at the start of the semester)\n",
    "initial_enrollment = enrollments_df[\n",
    "    (enrollments_df['value.created_at'] <= semester_start_date) & \n",
    "    (enrollments_df['value.workflow_state'] == 'available')  # Assuming 'available' means active\n",
    "].shape[0]\n",
    "\n",
    "# Step 2: Final Enrollment (students still active at the end of the semester)\n",
    "final_enrollment = enrollments_df[\n",
    "    (enrollments_df['value.updated_at'] >= semester_end_date) & \n",
    "    (enrollments_df['value.workflow_state'] == 'available')\n",
    "].shape[0]\n",
    "\n",
    "# Step 3: Calculate the Retention Rate\n",
    "if initial_enrollment > 0:\n",
    "    retention_rate = (final_enrollment / initial_enrollment) * 100\n",
    "else:\n",
    "    retention_rate = 0\n",
    "\n",
    "retention_rate"
   ]
  }
 ],
 "metadata": {
  "kernelspec": {
   "display_name": "Python 3",
   "language": "python",
   "name": "python3"
  },
  "language_info": {
   "codemirror_mode": {
    "name": "ipython",
    "version": 3
   },
   "file_extension": ".py",
   "mimetype": "text/x-python",
   "name": "python",
   "nbconvert_exporter": "python",
   "pygments_lexer": "ipython3",
   "version": "3.12.2"
  }
 },
 "nbformat": 4,
 "nbformat_minor": 2
}
