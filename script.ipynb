{
 "cells": [
  {
   "cell_type": "code",
   "execution_count": null,
   "metadata": {},
   "outputs": [
    {
     "ename": "",
     "evalue": "",
     "output_type": "error",
     "traceback": [
      "\u001b[1;31mRunning cells with '/opt/homebrew/bin/python3' requires the ipykernel package.\n",
      "\u001b[1;31mRun the following command to install 'ipykernel' into the Python environment. \n",
      "\u001b[1;31mCommand: '/opt/homebrew/bin/python3 -m pip install ipykernel -U --user --force-reinstall'"
     ]
    }
   ],
   "source": [
    "import pandas as pd\n",
    "\n",
    "# Read the CSV file into a pandas DataFrame\n",
    "df = pd.read_csv('course_details_csv.csv')\n",
    "\n",
    "total_courses = df.drop_duplicates(subset=['value.name', 'value.course_id'])\n",
    "\n",
    "# Filter the DataFrame to get only active courses\n",
    "active_courses = total_courses[total_courses['value.workflow_state'] == 'active']\n",
    "\n",
    "active_courses_rate = len(active_courses) / len(total_courses)\n",
    "\n",
    "# Print the results\n",
    "print(f\"Total Courses: {len(total_courses)}\")\n",
    "print(f\"Active Courses: {len(active_courses)}\")\n",
    "print(f\"Active Courses Rate: {active_courses_rate:.2%}\")\n",
    "\n"
   ]
  },
  {
   "cell_type": "code",
   "execution_count": null,
   "metadata": {},
   "outputs": [
    {
     "ename": "",
     "evalue": "",
     "output_type": "error",
     "traceback": [
      "\u001b[1;31mRunning cells with '/opt/homebrew/bin/python3' requires the ipykernel package.\n",
      "\u001b[1;31mRun the following command to install 'ipykernel' into the Python environment. \n",
      "\u001b[1;31mCommand: '/opt/homebrew/bin/python3 -m pip install ipykernel -U --user --force-reinstall'"
     ]
    }
   ],
   "source": [
    "from bokeh.plotting import figure, show\n",
    "from bokeh.models import ColumnDataSource\n",
    "from bokeh.transform import factor_cmap\n",
    "from bokeh.palettes import Viridis256\n",
    "\n",
    "# Create a DataFrame for plotting\n",
    "data = pd.DataFrame({'Courses': ['Total Courses', 'Active Courses'],\n",
    "                     'Rate': [1, active_courses_rate]})\n",
    "\n",
    "# Create a ColumnDataSource from the data\n",
    "source = ColumnDataSource(data)\n",
    "\n",
    "# Create a figure\n",
    "p = figure(x_range=data['Courses'] d, title=\"Active Courses Rate\")\n",
    "\n",
    "# Create bars for the data\n",
    "p.vbar(x='Courses', top='Rate', width=0.5, source=source, \n",
    "       line_color='white', fill_color=factor_cmap('Courses', palette=Viridis256, factors=data['Courses']))\n",
    "\n",
    "# Customize the plot\n",
    "p.y_range.start = 0\n",
    "p.y_range.end = 1\n",
    "p.xaxis.major_label_orientation = 0.5\n",
    "p.xaxis.axis_label = \"Courses\"\n",
    "p.yaxis.axis_label = \"Rate\"\n",
    "\n",
    "# Show the plot\n",
    "show(p)"
   ]
  },
  {
   "cell_type": "markdown",
   "metadata": {},
   "source": [
    "1. Connect to Canvas API \n",
    "2. Transform data (only the KPIs that will be in the dashboard or in the report) \n",
    "3. Connect to local DB (sqlServer)\n",
    "4. Load to local DB transformed and raw untransformed data (tutorial)\n",
    "5. Connect to local DB\n",
    "6. Design of dashboards \n",
    "7. Extract needed information for KPIs\n",
    "8. Generate plots for report \n",
    "9. Generate dashboards\n",
    "10. Send information via email or publish it in a url"
   ]
  },
  {
   "cell_type": "code",
   "execution_count": 72,
   "metadata": {},
   "outputs": [],
   "source": [
    "import requests as req\n",
    "from typing import Optional, List, Dict\n",
    "import time\n",
    "from dotenv import load_dotenv\n",
    "import os\n",
    "\n",
    "# Load environment variables from .env file\n",
    "load_dotenv()\n",
    "\n",
    "# Access environment variables\n",
    "BASE_URL = \"https://api-gateway.instructure.com\"\n",
    "CLIENT_ID = os.getenv(\"API_KEY\")\n",
    "CLIENT_SECRET = os.getenv(\"API_SECRET\")\n",
    "\n",
    "class CanvasAPI:\n",
    "\n",
    "    def __init__(self, client_id: str, client_secret: str, auto_login: bool = True) -> None: \n",
    "        self.url = BASE_URL\n",
    "        self.client_id = client_id\n",
    "        self. client_secret = client_secret\n",
    "        if auto_login: \n",
    "            self.login()\n",
    "\n",
    "    \n",
    "    def login(self) -> Optional[str]: \n",
    "        url = f\"{BASE_URL}/ids/auth/login\"\n",
    "        auth = req.auth.HTTPBasicAuth(self.client_id, self.client_secret)\n",
    "        data = {\"grant_type\": \"client_credentials\"}\n",
    "        response = req.post(url, auth=auth, data=data)\n",
    "\n",
    "        if response.status_code == 200:\n",
    "            response_json = response.json()\n",
    "            self.access_token = response_json.get(\"access_token\")  # Store the token\n",
    "            return self.access_token\n",
    "        else:\n",
    "            raise Exception(f\"Login failed with status code: {response.status_code}, response text: {response.text}\")\n",
    "        \n",
    "    \n",
    "    def make_request_with_auth(self,method: str, endpoint: str, auto_login=True, **kwargs) -> req.Response:\n",
    "        \"\"\"Makes a request to the Canvas API with authentication.\"\"\"\n",
    "        if self.access_token is None and auto_login:\n",
    "            try: \n",
    "                self.login()\n",
    "            except:\n",
    "                raise Exception(\"Could not login and access token is expired.\")\n",
    "\n",
    "        url = f\"{self.url}/{endpoint}\"\n",
    "        headers = {\"Authorization\": f\"Bearer {self.access_token}\"}\n",
    "        response = req.request(method, url, headers=headers, **kwargs)\n",
    "        assert response.status_code == 200, f\"Request failed with status code: {response.status_code}, response text: {response.text}\"\n",
    "        return response\n",
    "    \n",
    "    def get_list_of_tables(self) -> Optional[List]:\n",
    "        if self.access_token is None:\n",
    "            raise Exception(\"Not logged in. Please call login() first.\")\n",
    "        response = self.make_request_with_auth(\"GET\", \"/dap/query/canvas/table\")\n",
    "        if response.status_code == 200:\n",
    "            return response.json()[\"tables\"]\n",
    "        else:\n",
    "            return [{\"status code\": response.status_code, \"msg\": response.text}]\n",
    "        \n",
    "    def get_schema_of_table(self, table_name: str) -> Optional[Dict]:\n",
    "        response = self.make_request_with_auth(\"GET\", f\"dap/query/canvas/table/{table_name}/schema\")\n",
    "        if response.status_code == 200:\n",
    "            return response.json()\n",
    "        else:\n",
    "            return {\"status code\": response.status_code, \"msg\": response.text}\n",
    "    \n",
    "    def get_id_for_table(self, table_name: str) -> Optional[str]:\n",
    "        body = {\"format\": \"jsonl\"}\n",
    "        response = self.make_request_with_auth(\"POST\", f\"dap/query/canvas/table/{table_name}/data\", json=body)\n",
    "\n",
    "        if response.status_code == 200:\n",
    "            while True:\n",
    "                response = self.make_request_with_auth(\"POST\", f\"dap/query/canvas/table/{table_name}/data\", json=body)\n",
    "                status = response.json().get(\"status\")\n",
    "\n",
    "                if status == \"failed\":\n",
    "                    return f\"Request failed with status code: {response.status_code}, response text: {response.text}\"\n",
    "                elif status != \"complete\":\n",
    "                    time.sleep(5) # Wait 5 seconds before trying again\n",
    "                    continue\n",
    "                if status == \"complete\": # to make sure the status is complete  \n",
    "                    return response.json()[\"objects\"][0][\"id\"]\n",
    "        else:\n",
    "            return f\"Initial request failed with status code: {response.status_code},response text: {response.text}\"\n",
    "    \n",
    "    def get_table_by_name(self, table_name:str):\n",
    "        endpoint = \"dap/object/url\"\n",
    "\n",
    "        table_id = self.get_id_for_table(table_name)\n",
    "        if not table_id:\n",
    "            return f\"Failed to get table ID for table: {table_name}\"\n",
    "        \n",
    "        body = [{\"id\": str(table_id)}]\n",
    "        response = self.make_request_with_auth(\"POST\", endpoint, json=body)\n",
    "\n",
    "        if response.status_code == 200:\n",
    "            table_url = response.json()[\"urls\"][table_id][\"url\"]\n",
    "            return table_url\n",
    "        else:\n",
    "            print(f\"Request failed with status code: {response.status_code}, response test: {response.text}\")"
   ]
  },
  {
   "cell_type": "code",
   "execution_count": 73,
   "metadata": {},
   "outputs": [],
   "source": [
    "canvas_api = CanvasAPI(CLIENT_ID, CLIENT_SECRET, True)\n",
    "table_id = canvas_api.get_id_for_table(\"wikis\")\n",
    "table_url = canvas_api.get_table_by_name(\"wikis\")\n"
   ]
  },
  {
   "cell_type": "code",
   "execution_count": 13,
   "metadata": {},
   "outputs": [],
   "source": [
    "import os\n",
    "from dap.api import DAPClient\n",
    "from dap.dap_types import Credentials, Format, SnapshotQuery\n",
    "from dotenv import load_dotenv\n",
    "\n",
    "# Load environment variables from .env file\n",
    "def load_env_vars():\n",
    "    load_dotenv()\n",
    "    base_url = os.environ[\"DAP_API_URL\"]\n",
    "    client_id = os.environ[\"DAP_CLIENT_ID\"]\n",
    "    client_secret = os.environ[\"DAP_CLIENT_SECRET\"]\n",
    "    return base_url, client_id, client_secret\n",
    "\n",
    "# Create credentials\n",
    "def create_credentials() -> Credentials:\n",
    "    _, client_id, client_secret = load_env_vars()\n",
    "    return Credentials.create(client_id=client_id, client_secret=client_secret)\n",
    "\n",
    "# Get table schema\n",
    "async def get_table_schema(namespace: str, table: str, credentials:Credentials = None):\n",
    "    if credentials is None:\n",
    "        credentials = create_credentials()\n",
    "    async with DAPClient() as session:\n",
    "        schema = await session.get_table_schema(namespace, table)\n",
    "        return schema\n",
    "\n",
    "# Download all table schemas\n",
    "async def download_all_table_schemas(namespace: str, output_directory: str, credentials:Credentials = None):\n",
    "    if credentials is None: \n",
    "        credentials = create_credentials()\n",
    "    async with DAPClient() as session:\n",
    "        tables = await session.get_tables(namespace)\n",
    "        for table in tables:\n",
    "            await session.download_table_schema(namespace=namespace, table=table, output_directory=output_directory)\n",
    "            print(f\"Downloaded schema for '{table}'\")\n",
    "\n",
    "# Download table data\n",
    "async def download_table_data(namespace: str, table: str, output_directory: str, credentials: Credentials = None):\n",
    "    if credentials is None:\n",
    "        credentials = create_credentials\n",
    "    async with DAPClient() as session:\n",
    "        query = SnapshotQuery(format=Format.CSV, mode=None)\n",
    "        await session.download_table_data(\n",
    "            namespace=namespace, table=table, query=query, output_directory=output_directory, decompress=True\n",
    "        )\n",
    "\n",
    "# Example usage:\n",
    "if __name__ == \"__main__\":\n",
    "    import asyncio\n",
    "\n",
    "    # Run independently\n",
    "    # asyncio.run(get_table_schema(\"canvas\", \"accounts\"))\n",
    "    # asyncio.run(download_all_table_schemas(\"canvas\", os.getcwd()))\n",
    "    asyncio.run(download_table_data(\"canvas\", \"courses\", os.getcwd()))\n",
    "\n"
   ]
  },
  {
   "cell_type": "code",
   "execution_count": 12,
   "metadata": {},
   "outputs": [
    {
     "name": "stderr",
     "output_type": "stream",
     "text": [
      "/opt/homebrew/Cellar/python@3.12/3.12.2_1/Frameworks/Python.framework/Versions/3.12/lib/python3.12/dis.py:529: RuntimeWarning: coroutine 'download_table_data' was never awaited\n",
      "  for i in range(size):\n",
      "RuntimeWarning: Enable tracemalloc to get the object allocation traceback\n"
     ]
    },
    {
     "ename": "KeyboardInterrupt",
     "evalue": "",
     "output_type": "error",
     "traceback": [
      "\u001b[0;31m---------------------------------------------------------------------------\u001b[0m",
      "\u001b[0;31mKeyboardInterrupt\u001b[0m                         Traceback (most recent call last)",
      "\u001b[1;32m/Users/larissatrasvina/thesis-canvas/script.ipynb Cell 7\u001b[0m line \u001b[0;36m3\n\u001b[1;32m      <a href='vscode-notebook-cell:/Users/larissatrasvina/thesis-canvas/script.ipynb#X11sZmlsZQ%3D%3D?line=0'>1</a>\u001b[0m asyncio\u001b[39m.\u001b[39mrun(get_table_schema(\u001b[39m\"\u001b[39m\u001b[39mcanvas\u001b[39m\u001b[39m\"\u001b[39m, \u001b[39m\"\u001b[39m\u001b[39maccounts\u001b[39m\u001b[39m\"\u001b[39m))\n\u001b[1;32m      <a href='vscode-notebook-cell:/Users/larissatrasvina/thesis-canvas/script.ipynb#X11sZmlsZQ%3D%3D?line=1'>2</a>\u001b[0m output_directory \u001b[39m=\u001b[39m os\u001b[39m.\u001b[39mgetcwd()\n\u001b[0;32m----> <a href='vscode-notebook-cell:/Users/larissatrasvina/thesis-canvas/script.ipynb#X11sZmlsZQ%3D%3D?line=2'>3</a>\u001b[0m asyncio\u001b[39m.\u001b[39;49mrun(download_all_table_schemas(\u001b[39m\"\u001b[39;49m\u001b[39mcanvas\u001b[39;49m\u001b[39m\"\u001b[39;49m, output_directory))\n\u001b[1;32m      <a href='vscode-notebook-cell:/Users/larissatrasvina/thesis-canvas/script.ipynb#X11sZmlsZQ%3D%3D?line=3'>4</a>\u001b[0m asyncio\u001b[39m.\u001b[39mrun(download_table_data(\u001b[39m\"\u001b[39m\u001b[39mcanvas\u001b[39m\u001b[39m\"\u001b[39m, \u001b[39m\"\u001b[39m\u001b[39mcourses\u001b[39m\u001b[39m\"\u001b[39m, output_directory))\n",
      "File \u001b[0;32m~/thesis-canvas/.venv/lib/python3.12/site-packages/nest_asyncio.py:30\u001b[0m, in \u001b[0;36m_patch_asyncio.<locals>.run\u001b[0;34m(main, debug)\u001b[0m\n\u001b[1;32m     28\u001b[0m task \u001b[39m=\u001b[39m asyncio\u001b[39m.\u001b[39mensure_future(main)\n\u001b[1;32m     29\u001b[0m \u001b[39mtry\u001b[39;00m:\n\u001b[0;32m---> 30\u001b[0m     \u001b[39mreturn\u001b[39;00m loop\u001b[39m.\u001b[39;49mrun_until_complete(task)\n\u001b[1;32m     31\u001b[0m \u001b[39mfinally\u001b[39;00m:\n\u001b[1;32m     32\u001b[0m     \u001b[39mif\u001b[39;00m \u001b[39mnot\u001b[39;00m task\u001b[39m.\u001b[39mdone():\n",
      "File \u001b[0;32m~/thesis-canvas/.venv/lib/python3.12/site-packages/nest_asyncio.py:92\u001b[0m, in \u001b[0;36m_patch_loop.<locals>.run_until_complete\u001b[0;34m(self, future)\u001b[0m\n\u001b[1;32m     90\u001b[0m     f\u001b[39m.\u001b[39m_log_destroy_pending \u001b[39m=\u001b[39m \u001b[39mFalse\u001b[39;00m\n\u001b[1;32m     91\u001b[0m \u001b[39mwhile\u001b[39;00m \u001b[39mnot\u001b[39;00m f\u001b[39m.\u001b[39mdone():\n\u001b[0;32m---> 92\u001b[0m     \u001b[39mself\u001b[39;49m\u001b[39m.\u001b[39;49m_run_once()\n\u001b[1;32m     93\u001b[0m     \u001b[39mif\u001b[39;00m \u001b[39mself\u001b[39m\u001b[39m.\u001b[39m_stopping:\n\u001b[1;32m     94\u001b[0m         \u001b[39mbreak\u001b[39;00m\n",
      "File \u001b[0;32m~/thesis-canvas/.venv/lib/python3.12/site-packages/nest_asyncio.py:115\u001b[0m, in \u001b[0;36m_patch_loop.<locals>._run_once\u001b[0;34m(self)\u001b[0m\n\u001b[1;32m    108\u001b[0m     heappop(scheduled)\n\u001b[1;32m    110\u001b[0m timeout \u001b[39m=\u001b[39m (\n\u001b[1;32m    111\u001b[0m     \u001b[39m0\u001b[39m \u001b[39mif\u001b[39;00m ready \u001b[39mor\u001b[39;00m \u001b[39mself\u001b[39m\u001b[39m.\u001b[39m_stopping\n\u001b[1;32m    112\u001b[0m     \u001b[39melse\u001b[39;00m \u001b[39mmin\u001b[39m(\u001b[39mmax\u001b[39m(\n\u001b[1;32m    113\u001b[0m         scheduled[\u001b[39m0\u001b[39m]\u001b[39m.\u001b[39m_when \u001b[39m-\u001b[39m \u001b[39mself\u001b[39m\u001b[39m.\u001b[39mtime(), \u001b[39m0\u001b[39m), \u001b[39m86400\u001b[39m) \u001b[39mif\u001b[39;00m scheduled\n\u001b[1;32m    114\u001b[0m     \u001b[39melse\u001b[39;00m \u001b[39mNone\u001b[39;00m)\n\u001b[0;32m--> 115\u001b[0m event_list \u001b[39m=\u001b[39m \u001b[39mself\u001b[39;49m\u001b[39m.\u001b[39;49m_selector\u001b[39m.\u001b[39;49mselect(timeout)\n\u001b[1;32m    116\u001b[0m \u001b[39mself\u001b[39m\u001b[39m.\u001b[39m_process_events(event_list)\n\u001b[1;32m    118\u001b[0m end_time \u001b[39m=\u001b[39m \u001b[39mself\u001b[39m\u001b[39m.\u001b[39mtime() \u001b[39m+\u001b[39m \u001b[39mself\u001b[39m\u001b[39m.\u001b[39m_clock_resolution\n",
      "File \u001b[0;32m/opt/homebrew/Cellar/python@3.12/3.12.2_1/Frameworks/Python.framework/Versions/3.12/lib/python3.12/selectors.py:566\u001b[0m, in \u001b[0;36mKqueueSelector.select\u001b[0;34m(self, timeout)\u001b[0m\n\u001b[1;32m    564\u001b[0m ready \u001b[39m=\u001b[39m []\n\u001b[1;32m    565\u001b[0m \u001b[39mtry\u001b[39;00m:\n\u001b[0;32m--> 566\u001b[0m     kev_list \u001b[39m=\u001b[39m \u001b[39mself\u001b[39;49m\u001b[39m.\u001b[39;49m_selector\u001b[39m.\u001b[39;49mcontrol(\u001b[39mNone\u001b[39;49;00m, max_ev, timeout)\n\u001b[1;32m    567\u001b[0m \u001b[39mexcept\u001b[39;00m \u001b[39mInterruptedError\u001b[39;00m:\n\u001b[1;32m    568\u001b[0m     \u001b[39mreturn\u001b[39;00m ready\n",
      "\u001b[0;31mKeyboardInterrupt\u001b[0m: "
     ]
    }
   ],
   "source": [
    "\n",
    "\n",
    "\n",
    "\n",
    "asyncio.run(get_table_schema(\"canvas\", \"accounts\"))\n",
    "output_directory = os.getcwd()\n",
    "asyncio.run(download_all_table_schemas(\"canvas\", output_directory))\n",
    "asyncio.run(download_table_data(\"canvas\", \"courses\", output_directory))\n"
   ]
  },
  {
   "cell_type": "code",
   "execution_count": 11,
   "metadata": {},
   "outputs": [
    {
     "name": "stdout",
     "output_type": "stream",
     "text": [
      "Requirement already satisfied: nest_asyncio in ./.venv/lib/python3.12/site-packages (1.6.0)\n"
     ]
    }
   ],
   "source": [
    "import nest_asyncio\n",
    "nest_asyncio.apply()\n"
   ]
  }
 ],
 "metadata": {
  "kernelspec": {
   "display_name": "Python 3",
   "language": "python",
   "name": "python3"
  },
  "language_info": {
   "codemirror_mode": {
    "name": "ipython",
    "version": 3
   },
   "file_extension": ".py",
   "mimetype": "text/x-python",
   "name": "python",
   "nbconvert_exporter": "python",
   "pygments_lexer": "ipython3",
   "version": "3.12.7"
  }
 },
 "nbformat": 4,
 "nbformat_minor": 2
}
